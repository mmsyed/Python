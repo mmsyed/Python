{
 "cells": [
  {
   "cell_type": "markdown",
   "metadata": {},
   "source": [
    "# Now You Code 4: Temperature Conversion\n",
    "\n",
    "# Part 1\n",
    "\n",
    "Write a Python program to input a temperature in Fahrenheit or Celcius,\n",
    "then converts it to the other unit. The program should first input a temperature\n",
    "then input a unit of C or F. It should then convert the temperature to the\n",
    "other unit. \n",
    "\n",
    "After you get it working initially, re-write it to handle bad input. \n",
    "\n",
    "Example Run 1:\n",
    "\n",
    "```\n",
    "    Enter temperature: 212\n",
    "    In which units is that: C or F? F\n",
    "    That's 100.0 C\n",
    "```\n",
    "\n",
    "Example Run 2:\n",
    "\n",
    "```\n",
    "    Enter temperature: 0\n",
    "    In which unit is that: C or F? C\n",
    "    That's 32.0 F\n",
    "```\n",
    "\n",
    "NOTE: You can find the formulas online.\n"
   ]
  },
  {
   "cell_type": "markdown",
   "metadata": {
    "collapsed": true
   },
   "source": [
    "## Step 1: Problem Analysis\n",
    "\n",
    "Inputs:\n",
    "temperature,\n",
    "formula (already given)\n",
    "unit\n",
    "\n",
    "Outputs:\n",
    "temperature and converted unit\n",
    "\n",
    "Algorithm (Steps in Program):\n",
    "1. read in temperature as float and unit as s(tring and store in variables\n",
    "2. apply formula to temperature\n",
    "3. print out converted temperature and unit\n",
    "\n",
    "\n"
   ]
  },
  {
   "cell_type": "code",
   "execution_count": 14,
   "metadata": {},
   "outputs": [
    {
     "name": "stdout",
     "output_type": "stream",
     "text": [
      "Enter temperature: 32\n",
      "In which units is that: C or F? c\n",
      "wrong input\n"
     ]
    }
   ],
   "source": [
    "#Step 2: write code here\n",
    "temp = float(input(\"Enter temperature: \"))\n",
    "unit = input(\"In which units is that: C or F? \")\n",
    "if (unit == 'C'):\n",
    "    temp_converted = (((temp*9)/5)+32)\n",
    "    print(\"Thats %.1f F\" % temp_converted)\n",
    "elif (unit == 'F'):\n",
    "    temp_converted = (((temp-32)*5)/9)\n",
    "    print(\"Thats %.1f C\" % temp_converted)\n",
    "else:\n",
    "    print (\"wrong input\")\n"
   ]
  },
  {
   "cell_type": "markdown",
   "metadata": {},
   "source": [
    "# Part 2\n",
    "\n",
    "Now that you got it working,  re-write your code to handle bad input using Python's `try... except` statement. When the exception occurs, you can just print the message and exit the program.\n",
    "\n",
    "Example run:\n",
    "\n",
    "```\n",
    "    Enter temperature: wicked hot\n",
    "    Sorry, that's not a temperature I can convert.\n",
    "```\n",
    "\n",
    "**Note:** Exception handling is not part of our algorithm. It's a programming concern, not a problem-solving concern!"
   ]
  },
  {
   "cell_type": "code",
   "execution_count": 7,
   "metadata": {},
   "outputs": [
    {
     "name": "stdout",
     "output_type": "stream",
     "text": [
      "Enter temperature: 32\n",
      "In which units is that: C or F? c\n",
      "Thats 89.6 F\n"
     ]
    }
   ],
   "source": [
    "## Step 2 (again): write code again but handle errors with try...except\n",
    "#Step 2: write code here\n",
    "try:\n",
    "    temp = float(input(\"Enter temperature: \"))\n",
    "    unit = input(\"In which units is that: C or F? \")\n",
    "    unit_upper = unit.upper()\n",
    "    if (unit_upper == 'C'):\n",
    "        temp_converted = (((temp*9)/5)+32)\n",
    "        print(\"Thats %.1f F\" % temp_converted)\n",
    "    elif (unit_upper == 'F'):\n",
    "        temp_converted = (((temp-32)*5)/9)\n",
    "        print(\"Thats %.1f C\" % temp_converted)\n",
    "    else:\n",
    "        print(\"wrong unit entered\")\n",
    "except:\n",
    "    print(\"Sorry, that's not a temperature I can convert.\")"
   ]
  },
  {
   "cell_type": "markdown",
   "metadata": {},
   "source": [
    "### Step 3: Questions\n",
    "\n",
    "1. What specific Python Error are we handling (please provide the name of it)?\n",
    "ValueError\n",
    "2. How many times must you execute this program before you can assume its correct? Explain.\n",
    " correct temp with F to C, correct temp with C to F, wrong temp input, wrong unit input  =4\n",
    " \n",
    "\n",
    "3. What happends when you enter a lower-cased 'f' or 'c' does it work? Does it work with both upper and lower cased values? How can we make it work?\n",
    "it will print the else statement, since 'C' != 'c'. to fix it I converted the original string to be always upper case so we only need to compare the new converted case unit input\n",
    "4. What happens when you enter a value other than 'F' or 'C' for the units. If you don't like the result, how can you modify the program to handle this issue?\n",
    "it will print the else statement "
   ]
  },
  {
   "cell_type": "markdown",
   "metadata": {},
   "source": [
    "## Reminder of Evaluation Criteria\n",
    "\n",
    "1. What the problem attempted (analysis, code, and answered questions) ?\n",
    "2. What the problem analysis thought out? (does the program match the plan?)\n",
    "3. Does the code execute without syntax error?\n",
    "4. Does the code solve the intended problem?\n",
    "5. Is the code well written? (easy to understand, modular, and self-documenting, handles errors)\n"
   ]
  }
 ],
 "metadata": {
  "anaconda-cloud": {},
  "kernelspec": {
   "display_name": "Python 3",
   "language": "python",
   "name": "python3"
  },
  "language_info": {
   "codemirror_mode": {
    "name": "ipython",
    "version": 3
   },
   "file_extension": ".py",
   "mimetype": "text/x-python",
   "name": "python",
   "nbconvert_exporter": "python",
   "pygments_lexer": "ipython3",
   "version": "3.6.6"
  }
 },
 "nbformat": 4,
 "nbformat_minor": 1
}
