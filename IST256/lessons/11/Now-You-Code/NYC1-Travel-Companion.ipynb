{
 "cells": [
  {
   "cell_type": "markdown",
   "metadata": {},
   "source": [
    "# Now You Code 1: Travel Companion\n",
    "\n",
    "You're heading to Europe! Write a program which when you input an amount of money in USD will convert that to GBP (British Pounts) and EUR (Euro Dollars).\n",
    "\n",
    "The program should use the API: http://fixer.io/  to calculate the exchange rates. You must read and review the API before beginning.\n",
    "\n",
    "Example Run (Based on the exchange rates from 2017-03-06:\n",
    "\n",
    "```\n",
    "Enter the amount in USD you wish to exchange: 100\n",
    "100.00 in USD is 94.41 in EUR\n",
    "100.00 in USD is 81.48 in GBP\n",
    "```\n",
    "\n",
    "\n",
    "We will once again employ problem simplification. First you should write a function to get the exchange rates from fixer.io, then call that function in your main program."
   ]
  },
  {
   "cell_type": "markdown",
   "metadata": {
    "collapsed": true
   },
   "source": [
    "## Step 1: Problem Analysis `get_exchange_rates`\n",
    "\n",
    "Inputs: None\n",
    "\n",
    "Outputs: a dictionary of current exchange rates\n",
    "\n",
    "Algorithm (Steps in Program):\n",
    "1. import json and requests\n",
    "2. set up url with options\n",
    "3. get response and convert to json save it in a new variable to return\n",
    "\n",
    "\n",
    "\n"
   ]
  },
  {
   "cell_type": "code",
   "execution_count": 1,
   "metadata": {},
   "outputs": [
    {
     "name": "stderr",
     "output_type": "stream",
     "text": [
      "You are using pip version 18.0, however version 18.1 is available.\n",
      "You should consider upgrading via the 'python -m pip install --upgrade pip' command.\n"
     ]
    }
   ],
   "source": [
    "# Step 2: write code here for the user-defined function get_exchange_rates\n",
    "!pip install -q requests\n",
    "import requests\n",
    "import json \n",
    "def get_exchange_rates():\n",
    "    url = \"http://data.fixer.io/api/latest?access_key=0877e3d02a074a03c24c33e5fd010850&base = USD&symbols=GBP,USD&format=1\"\n",
    "    response = requests.get(url)            \n",
    "    #response.text\n",
    "    rate = response.json()\n",
    "    ra = rate['rates']\n",
    "    return ra\n"
   ]
  },
  {
   "cell_type": "code",
   "execution_count": 2,
   "metadata": {},
   "outputs": [
    {
     "data": {
      "text/plain": [
       "{'GBP': 0.889455, 'USD': 1.142054}"
      ]
     },
     "execution_count": 2,
     "metadata": {},
     "output_type": "execute_result"
    }
   ],
   "source": [
    "# step 3: test the function\n",
    "get_exchange_rates() # should output a dictionary of exchange rates"
   ]
  },
  {
   "cell_type": "markdown",
   "metadata": {},
   "source": [
    "## Step 4: Problem Analysis for entire program, ***EDIT*** fixer.io requires paid subscription to change base currency to USD, which is why i'm using base as EUR and converting to GBP AND USD instead.\n",
    "\n",
    "Inputs: INPUT amount in eur\n",
    "\n",
    "Outputs: amounT in gbp and  USD\n",
    "\n",
    "Algorithm (Steps in Program):\n",
    "1. store input currenct\n",
    "2. call the exxchange function to get rates.\n",
    "3. apply rates respectively and print output rates\n",
    "\n",
    "\n"
   ]
  },
  {
   "cell_type": "code",
   "execution_count": 3,
   "metadata": {},
   "outputs": [
    {
     "name": "stdout",
     "output_type": "stream",
     "text": [
      "enter currency in EUR: 8\n",
      "8.0\n",
      "Converted, 8.000000 EUR is : 7.115640 GBP and 9.136432 USD\n"
     ]
    }
   ],
   "source": [
    "# step 5: write main program\n",
    "try:\n",
    "    cur = float(input((\"enter currency in EUR: \")))\n",
    "    print(cur)\n",
    "    dic=get_exchange_rates() \n",
    "    cur_in_GBP = cur*(dic['GBP'])\n",
    "    cur_in_USD = cur*(dic['USD'])\n",
    "    print(\"Converted, %f EUR is : %f GBP and %f USD\" % (cur, cur_in_GBP,cur_in_USD))\n",
    "\n",
    "except ValueError:\n",
    "    print(\"error: an int or float\")\n",
    "    \n",
    "except requests.exceptions.RequestException as e: \n",
    "    print(\"ERROR: Cannot connect to \", url)\n",
    "    print(\"DETAILS:\", e)"
   ]
  },
  {
   "cell_type": "markdown",
   "metadata": {
    "collapsed": true
   },
   "source": [
    "## Step 6: Questions\n",
    "\n",
    "1. What happens when you enter `mike` as input? Which error to you get? Fix the program in step 4 so that it handles this error. we get valur error\n",
    "2. Put your laptop in Airplane mode (disable the wifi) and then run the program. What happens? Fix the program in step 4 so that it handles this error. request doesnt get completed and we get the error requests.exceptions.RequestException. can be fixed by adding an exception in the code"
   ]
  },
  {
   "cell_type": "markdown",
   "metadata": {},
   "source": [
    "## Reminder of Evaluation Criteria\n",
    "\n",
    "1. What the problem attempted (analysis, code, and answered questions) ?\n",
    "2. What the problem analysis thought out? (does the program match the plan?)\n",
    "3. Does the code execute without syntax error?\n",
    "4. Does the code solve the intended problem?\n",
    "5. Is the code well written? (easy to understand, modular, and self-documenting, handles errors)\n"
   ]
  },
  {
   "cell_type": "code",
   "execution_count": null,
   "metadata": {
    "collapsed": true
   },
   "outputs": [],
   "source": []
  }
 ],
 "metadata": {
  "anaconda-cloud": {},
  "kernelspec": {
   "display_name": "Python 3",
   "language": "python",
   "name": "python3"
  },
  "language_info": {
   "codemirror_mode": {
    "name": "ipython",
    "version": 3
   },
   "file_extension": ".py",
   "mimetype": "text/x-python",
   "name": "python",
   "nbconvert_exporter": "python",
   "pygments_lexer": "ipython3",
   "version": "3.6.6"
  }
 },
 "nbformat": 4,
 "nbformat_minor": 1
}
