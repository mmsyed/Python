{
 "cells": [
  {
   "cell_type": "markdown",
   "metadata": {},
   "source": [
    "# Now You Code 1: Check Divider\n",
    "\n",
    "This program will help you divide a dinner check evenly among the guests. You enter the number of diners and the amount of the check then the program will output the amount each diner should contribute to the check. \n",
    "\n",
    "Example run:\n",
    "\n",
    "```\n",
    "Python Check Divider\n",
    "How many people are dining? 4\n",
    "What is the total amount of the check? 60\n",
    "Each person should contribute 15.0 dollars.\n",
    "```"
   ]
  },
  {
   "cell_type": "markdown",
   "metadata": {
    "collapsed": true
   },
   "source": [
    "## Step 1: Problem Analysis\n",
    "\n",
    "Inputs: \n",
    "-numbers of diners as integers\n",
    "-amount of check\n",
    "\n",
    "Outputs:\n",
    "-amount each person contributes\n",
    "Algorithm (Steps in Program):\n",
    "1.input # of diners\n",
    "2. input amount of check\n",
    "3. contribution = amount of check/ diners\n",
    "4. print contribution\n"
   ]
  },
  {
   "cell_type": "code",
   "execution_count": 5,
   "metadata": {},
   "outputs": [
    {
     "name": "stdout",
     "output_type": "stream",
     "text": [
      "pyhton chech divider\n",
      "how many people r dining? two\n"
     ]
    },
    {
     "ename": "ValueError",
     "evalue": "invalid literal for int() with base 10: 'two'",
     "output_type": "error",
     "traceback": [
      "\u001b[1;31m---------------------------------------------------------------------------\u001b[0m",
      "\u001b[1;31mValueError\u001b[0m                                Traceback (most recent call last)",
      "\u001b[1;32m<ipython-input-5-a01c3ace9cec>\u001b[0m in \u001b[0;36m<module>\u001b[1;34m()\u001b[0m\n\u001b[0;32m      1\u001b[0m \u001b[1;31m# Step 2: write code here\u001b[0m\u001b[1;33m\u001b[0m\u001b[1;33m\u001b[0m\u001b[0m\n\u001b[0;32m      2\u001b[0m \u001b[0mprint\u001b[0m\u001b[1;33m(\u001b[0m\u001b[1;34m\"pyhton chech divider\"\u001b[0m\u001b[1;33m)\u001b[0m\u001b[1;33m\u001b[0m\u001b[0m\n\u001b[1;32m----> 3\u001b[1;33m \u001b[0mpeople\u001b[0m \u001b[1;33m=\u001b[0m \u001b[0mint\u001b[0m\u001b[1;33m(\u001b[0m\u001b[0minput\u001b[0m\u001b[1;33m(\u001b[0m\u001b[1;34m\"how many people r dining? \"\u001b[0m\u001b[1;33m)\u001b[0m\u001b[1;33m)\u001b[0m\u001b[1;33m\u001b[0m\u001b[0m\n\u001b[0m\u001b[0;32m      4\u001b[0m \u001b[0mcheck_total\u001b[0m \u001b[1;33m=\u001b[0m \u001b[0mfloat\u001b[0m\u001b[1;33m(\u001b[0m\u001b[0minput\u001b[0m\u001b[1;33m(\u001b[0m\u001b[1;34m\"what is the amount of check? \"\u001b[0m\u001b[1;33m)\u001b[0m\u001b[1;33m)\u001b[0m\u001b[1;33m\u001b[0m\u001b[0m\n\u001b[0;32m      5\u001b[0m \u001b[0mcontribution\u001b[0m \u001b[1;33m=\u001b[0m \u001b[0mcheck_total\u001b[0m \u001b[1;33m/\u001b[0m \u001b[0mpeople\u001b[0m\u001b[1;33m\u001b[0m\u001b[0m\n",
      "\u001b[1;31mValueError\u001b[0m: invalid literal for int() with base 10: 'two'"
     ]
    }
   ],
   "source": [
    "# Step 2: write code here\n",
    "print(\"pyhton chech divider\")\n",
    "people = int(input(\"how many people r dining? \"))\n",
    "check_total = float(input(\"what is the amount of check? \"))\n",
    "contribution = check_total / people\n",
    "print(\"each person should contribute\", contribution, \" dollars\")\n"
   ]
  },
  {
   "cell_type": "markdown",
   "metadata": {
    "collapsed": true
   },
   "source": [
    "## Step 3: Questions\n",
    "\n",
    "1. What happens when you enter `TWO` instead of `2` for the number of people dining? or $60 as the amount of the check, instead of 60?\n",
    "we get an error on line 4. ValueError\n",
    "2. Why do you think this happens?\n",
    "on line 3, the input value is supposed to be an 'int' instead of a string or char, which is why we get the error.\n",
    "3. Explain what happens when you enter `0.5` for the number of people dining?\n",
    "we get a value error as '0.5' is not an 'int' as expected in line 3 as the user input. 0.5 is a double or float not an int."
   ]
  },
  {
   "cell_type": "markdown",
   "metadata": {},
   "source": [
    "## Reminder of Evaluation Criteria\n",
    "\n",
    "1. What the problem attempted (analysis, code, and answered questions) ?\n",
    "2. What the problem analysis thought out? (does the program match the plan?)\n",
    "3. Does the code execute without syntax error?\n",
    "4. Does the code solve the intended problem?\n",
    "5. Is the code well written? (easy to understand, modular, and self-documenting, handles errors)\n"
   ]
  },
  {
   "cell_type": "code",
   "execution_count": null,
   "metadata": {
    "collapsed": true
   },
   "outputs": [],
   "source": []
  }
 ],
 "metadata": {
  "anaconda-cloud": {},
  "kernelspec": {
   "display_name": "Python 3",
   "language": "python",
   "name": "python3"
  },
  "language_info": {
   "codemirror_mode": {
    "name": "ipython",
    "version": 3
   },
   "file_extension": ".py",
   "mimetype": "text/x-python",
   "name": "python",
   "nbconvert_exporter": "python",
   "pygments_lexer": "ipython3",
   "version": "3.6.6"
  }
 },
 "nbformat": 4,
 "nbformat_minor": 1
}
