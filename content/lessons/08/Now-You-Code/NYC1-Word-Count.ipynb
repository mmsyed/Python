{
 "cells": [
  {
   "cell_type": "markdown",
   "metadata": {},
   "source": [
    "# Now You Code 1: Word Count\n",
    "\n",
    "Let's write a program which takes a file name as input, counts the number of words in the file, then outputs the word count.\n",
    "\n",
    "The program should handle `FileNotFoundError` as an exception in case you enter a file that does not exist.\n",
    "\n",
    "Sample Run #1:\n",
    "\n",
    "```\n",
    "Word Count!\n",
    "Enter Filename: NYC1-romeo.txt\n",
    "There are 33 words in NYC1-romeo.txt\n",
    "```\n",
    "\n",
    "Sample Run #2:\n",
    "\n",
    "```\n",
    "Word Count!\n",
    "Enter Filename: testing\n",
    "File Not Found: testing\n",
    "```\n",
    "Try these files:\n",
    "\n",
    "- `NYC1-cant-stop-the-feeling.txt`\n",
    "- `NYC1-preamble.txt`\n",
    "- `NYC1-romeo.txt` or \n",
    "- `NYC1-zork.txt`\n",
    "\n",
    "\n",
    "**HINT**: Read in the file a line at a time, then split the line into words and count each word... and remember your algorithm does not need to account for exceptions... those are programming concerns!\n"
   ]
  },
  {
   "cell_type": "markdown",
   "metadata": {
    "collapsed": true
   },
   "source": [
    "## Step 1: Problem Analysis\n",
    "\n",
    "Inputs: filename\n",
    "\n",
    "Outputs: word count \n",
    "\n",
    "Algorithm (Steps in Program):\n",
    "1. open file with user's given filename, initialize count to 0\n",
    "2. for loop for as many lines the file has\n",
    "3. split the line into words and add a nested for that iterates over words and adds to count\n",
    "4. print count outside the loop\n",
    "5. use try and except to  handle bad file name \n",
    "\n"
   ]
  },
  {
   "cell_type": "code",
   "execution_count": 1,
   "metadata": {},
   "outputs": [
    {
     "name": "stdout",
     "output_type": "stream",
     "text": [
      "Word Count!\n",
      "Enter filename: NYC1-romeo.txt \n",
      "there are 33 words in: NYC1-romeo.txt \n"
     ]
    }
   ],
   "source": [
    "## Step 2: write code here\n",
    "print(\"Word Count!\")\n",
    "filename = input(\"Enter filename: \" )\n",
    "count = 0\n",
    "try: \n",
    "    with open (filename, 'r') as f:\n",
    "        for line in f:\n",
    "            lines = line.split()\n",
    "            for word in lines:\n",
    "                count += 1\n",
    "    print(\"there are %d words in: %s\" % (count, filename) )\n",
    "except:\n",
    "    print(\"File not found: %s \" % (filename))\n",
    "##NYC1-romeo.txt\n"
   ]
  },
  {
   "cell_type": "markdown",
   "metadata": {
    "collapsed": true
   },
   "source": [
    "## Step 3: Questions\n",
    "\n",
    "1. Where are these files located? Make your own file, add words to it then run with the word count program. \n",
    "files are located on secondary memory in the course folder.\n",
    "2. Explain a strategy for mkaing this program  smarter so that it does not include puncutuation in the word counts?\n",
    "inside the second for loop, we can use the method  isalpha() to check if the word has letters only or anything else. \n",
    "3. Is it possible to have a file with a word count of 0? Explain.\n",
    "yes, empty space is not a word. \n"
   ]
  },
  {
   "cell_type": "markdown",
   "metadata": {},
   "source": [
    "## Reminder of Evaluation Criteria\n",
    "\n",
    "1. What the problem attempted (analysis, code, and answered questions) ?\n",
    "2. What the problem analysis thought out? (does the program match the plan?)\n",
    "3. Does the code execute without syntax error?\n",
    "4. Does the code solve the intended problem?\n",
    "5. Is the code well written? (easy to understand, modular, and self-documenting, handles errors)\n"
   ]
  },
  {
   "cell_type": "code",
   "execution_count": null,
   "metadata": {},
   "outputs": [],
   "source": []
  }
 ],
 "metadata": {
  "anaconda-cloud": {},
  "kernelspec": {
   "display_name": "Python 3",
   "language": "python",
   "name": "python3"
  },
  "language_info": {
   "codemirror_mode": {
    "name": "ipython",
    "version": 3
   },
   "file_extension": ".py",
   "mimetype": "text/x-python",
   "name": "python",
   "nbconvert_exporter": "python",
   "pygments_lexer": "ipython3",
   "version": "3.6.6"
  }
 },
 "nbformat": 4,
 "nbformat_minor": 1
}
