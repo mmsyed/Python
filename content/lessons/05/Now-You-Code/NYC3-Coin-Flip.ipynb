{
 "cells": [
  {
   "cell_type": "markdown",
   "metadata": {},
   "source": [
    "# Now You Code 3: Coin Flips\n",
    "\n",
    "Write a program to simulate 100,000 coin flips. The program should output\n",
    "the tally of heads and tails across the number of flips.\n",
    "\n",
    "For Example:\n",
    "After 100000 flips. Heads: 50030, Tails 49970\n",
    "\n",
    "Of course, since the flips are random, the counts will vary each time the program executes.\n",
    "\n",
    "Your strategy should be to use a loop to flip a coin 100,000 times.\n",
    "After you flip you should check for heads or tails and increment the count\n",
    "accordingly.\n",
    "\n",
    "### How do you make Python simulate a coin flip?"
   ]
  },
  {
   "cell_type": "code",
   "execution_count": 6,
   "metadata": {},
   "outputs": [
    {
     "name": "stdout",
     "output_type": "stream",
     "text": [
      "tails\n"
     ]
    }
   ],
   "source": [
    "# Sample code which demostrates how to flip a coin in python\n",
    "import random \n",
    "coin = ['heads', 'tails']\n",
    "flip = random.choice(coin)\n",
    "print(flip)"
   ]
  },
  {
   "cell_type": "markdown",
   "metadata": {},
   "source": [
    "Run the cell above a couple of times. Notice how each time you execute the code, it comes up as either `heads` or `tails`.\n",
    "\n",
    "Here's a breakdown of the code\n",
    "\n",
    "```\n",
    "line 1 imports the random module\n",
    "line 2 sets up a coin to have two choices heads or tails\n",
    "line 3 \"flips\" a coin by making a random choice among the values of the coin ('heads' or 'tails')\n",
    "line 4 prints the results of the coin flip.\n",
    "```\n",
    "\n",
    "Now that you understand how to simulate a coin flip a Python, try to design then write code for the program."
   ]
  },
  {
   "cell_type": "markdown",
   "metadata": {
    "collapsed": true
   },
   "source": [
    "## Step 1: Problem Analysis \n",
    "\n",
    "Inputs: import random and coin = heads, tails\n",
    "\n",
    "Outputs: results, count, \n",
    "\n",
    "Algorithm (Steps in Program):\n",
    "1. loop a coin toss 100,000 times\n",
    "2 . use random to flip coin. increment heads or tails a/c to result everytime in the loop\n",
    "3. print counts outside of the loop\n",
    "\n",
    "\n"
   ]
  },
  {
   "cell_type": "code",
   "execution_count": 19,
   "metadata": {},
   "outputs": [
    {
     "name": "stdout",
     "output_type": "stream",
     "text": [
      "enter number of times you would like to flip the coin: 7888887\n",
      "after 7888887 tosses, the results are: heads 3942966 and tails 3945921\n"
     ]
    }
   ],
   "source": [
    "import random\n",
    "# Step 2: write code for program\n",
    "coin = ['heads' , 'tails']\n",
    "heads = 0\n",
    "tails = 0\n",
    "iterations = int(input('enter number of times you would like to flip the coin: '))\n",
    "for i in range(iterations):\n",
    "    flip = random.choice(coin)\n",
    "    if flip == 'heads':\n",
    "        heads = heads + 1\n",
    "    else:\n",
    "        tails = tails +1\n",
    "print(\"after %d tosses, the results are: heads %d and tails %d\" % (iterations, heads, tails))\n",
    "        "
   ]
  },
  {
   "cell_type": "markdown",
   "metadata": {},
   "source": [
    "## Step 3: Questions\n",
    "\n",
    "1. Which loop did you use to solve the problem? What is a definite or indefinite loop?\n",
    "used a for loop which is definitive in this case as the number of iterations are predetermined. indefinite loops are ones without a determined number of interations and it depends on the user's inputs and needs.\n",
    "2. Modify this program to allow you to input the number of times you would like to flip the coin. NOTE: if you enter a large number, the program could take a few minutes to execute. Be Patient!!!\n",
    "3. Explain how could this progam could be modified to track flipping a \"three\" sided coin with `heads`, `tails` and `foos` for example? Do not modify the code, only explain your strategy.\n",
    "add another side tot he coin in the code, and in the for loop add an elif statement checking if the result is heads tails or an else statement which would mean it is 'foos'\n"
   ]
  },
  {
   "cell_type": "markdown",
   "metadata": {},
   "source": [
    "## Reminder of Evaluation Criteria\n",
    "\n",
    "1. What the problem attempted (analysis, code, and answered questions) ?\n",
    "2. What the problem analysis thought out? (does the program match the plan?)\n",
    "3. Does the code execute without syntax error?\n",
    "4. Does the code solve the intended problem?\n",
    "5. Is the code well written? (easy to understand, modular, and self-documenting, handles errors)\n"
   ]
  },
  {
   "cell_type": "code",
   "execution_count": null,
   "metadata": {
    "collapsed": true
   },
   "outputs": [],
   "source": []
  }
 ],
 "metadata": {
  "anaconda-cloud": {},
  "kernelspec": {
   "display_name": "Python 3",
   "language": "python",
   "name": "python3"
  },
  "language_info": {
   "codemirror_mode": {
    "name": "ipython",
    "version": 3
   },
   "file_extension": ".py",
   "mimetype": "text/x-python",
   "name": "python",
   "nbconvert_exporter": "python",
   "pygments_lexer": "ipython3",
   "version": "3.6.6"
  }
 },
 "nbformat": 4,
 "nbformat_minor": 1
}
