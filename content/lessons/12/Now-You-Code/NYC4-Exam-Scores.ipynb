{
 "cells": [
  {
   "cell_type": "markdown",
   "metadata": {},
   "source": [
    "# Now You Code 4: Exam Scores\n",
    "\n",
    "In this example, write a program to load the exam-scores data set here: \n",
    "https://raw.githubusercontent.com/mafudge/datasets/master/exam-scores/exam-scores.csv \n",
    "into a Pandas DataFrame\n",
    "\n",
    "It should then ask for two user inputs:\n",
    "\n",
    "- An Class Section (example: M01 or M02)\n",
    "- An Exam version (A, B, C, or D)\n",
    "\n",
    "It should ONLY accept those values for Class Section and Exam Version. Any other inputs and it should print 'Invalid Entry' and not display the data frame.\n",
    "\n",
    "With valid inputs it should filter the DataFrame to only those rows matching the input (for example section M01, version A)\n",
    "\n",
    "And display only the Student Score and Letter Grade for each student matching the inputs.\n",
    "\n",
    "**HINT**: The very last line in your code should output the dataframe variable. Set it to None in the case of invalid inputs."
   ]
  },
  {
   "cell_type": "markdown",
   "metadata": {},
   "source": [
    "## Step 1: Problem Analysis for entire program\n",
    "\n",
    "Inputs: data from website, user input's class section and exam version\n",
    "\n",
    "Outputs: display all students' score and letter grade that matches the inputs\n",
    "\n",
    "Algorithm (Steps in Program):\n",
    "0. define a function examscores(optional, but i used it so its easier to run and test)\n",
    "1. import pandas and ignore warnings\n",
    "2. import data from the csv file\n",
    "3. take user's input for section and version\n",
    "4. check if input is valid, if valid assign output to dataframe with given data, otherwise empty df\n",
    "5. if vlid, sort output df by user's section and exam version\n",
    "6. change output df to only have the needed columns\n",
    "7. RETURN output df outside any loops\n"
   ]
  },
  {
   "cell_type": "code",
   "execution_count": 76,
   "metadata": {},
   "outputs": [],
   "source": [
    "# Step 2: write code here\n",
    "def examscores():\n",
    "    import pandas as pd\n",
    "    import warnings\n",
    "    warnings.filterwarnings('ignore')\n",
    "\n",
    "    website = 'https://raw.githubusercontent.com/mafudge/datasets/master/exam-scores/exam-scores.csv'\n",
    "    data = pd.read_csv(website)\n",
    "    # data\n",
    "    section = input(\"Enter classs section: M01 or M02: \")\n",
    "    version = input(\"Enter exam version: (A, B, C OR D) \") \n",
    "    if (section not in('M01','M02') or (version not in('A','B','C','D'))):\n",
    "        print(\"wrong input\")\n",
    "        output = pd.DataFrame()\n",
    "    else: \n",
    "        output = pd.DataFrame(data)\n",
    "        output = output[(output['Class_Section'] == section) & (output['Exam_Version'] == version ) ]\n",
    "        # # output.iloc[:,6:7]\n",
    "        # output.iloc[:,8:]\n",
    "        output = output[[\"Student_Score\",\"Letter_Grade\"]]\n",
    "    return output"
   ]
  },
  {
   "cell_type": "markdown",
   "metadata": {},
   "source": [
    "## Step 3: Questions\n",
    "\n",
    "1. Pandas programs are different than typical Python programs. Explain the process by which you got the final solution? \n",
    "define a new df to a panda df which was made by importing data from the csv file. got the final solution by applying panda methods to the new df\n",
    "2. What was the most difficult aspect of this assignment? sorting data a/c input and printing specific columns"
   ]
  },
  {
   "cell_type": "code",
   "execution_count": 79,
   "metadata": {},
   "outputs": [
    {
     "name": "stdout",
     "output_type": "stream",
     "text": [
      "Enter classs section: M01 or M02: M02\n",
      "Enter exam version: (A, B, C OR D) C\n"
     ]
    },
    {
     "data": {
      "text/html": [
       "<div>\n",
       "<style scoped>\n",
       "    .dataframe tbody tr th:only-of-type {\n",
       "        vertical-align: middle;\n",
       "    }\n",
       "\n",
       "    .dataframe tbody tr th {\n",
       "        vertical-align: top;\n",
       "    }\n",
       "\n",
       "    .dataframe thead th {\n",
       "        text-align: right;\n",
       "    }\n",
       "</style>\n",
       "<table border=\"1\" class=\"dataframe\">\n",
       "  <thead>\n",
       "    <tr style=\"text-align: right;\">\n",
       "      <th></th>\n",
       "      <th>Student_Score</th>\n",
       "      <th>Letter_Grade</th>\n",
       "    </tr>\n",
       "  </thead>\n",
       "  <tbody>\n",
       "    <tr>\n",
       "      <th>48</th>\n",
       "      <td>28</td>\n",
       "      <td>A-</td>\n",
       "    </tr>\n",
       "    <tr>\n",
       "      <th>49</th>\n",
       "      <td>24</td>\n",
       "      <td>B</td>\n",
       "    </tr>\n",
       "    <tr>\n",
       "      <th>50</th>\n",
       "      <td>23</td>\n",
       "      <td>B-</td>\n",
       "    </tr>\n",
       "    <tr>\n",
       "      <th>51</th>\n",
       "      <td>23</td>\n",
       "      <td>B-</td>\n",
       "    </tr>\n",
       "    <tr>\n",
       "      <th>52</th>\n",
       "      <td>16</td>\n",
       "      <td>D</td>\n",
       "    </tr>\n",
       "    <tr>\n",
       "      <th>53</th>\n",
       "      <td>20</td>\n",
       "      <td>C</td>\n",
       "    </tr>\n",
       "    <tr>\n",
       "      <th>54</th>\n",
       "      <td>21</td>\n",
       "      <td>C+</td>\n",
       "    </tr>\n",
       "    <tr>\n",
       "      <th>55</th>\n",
       "      <td>25</td>\n",
       "      <td>B</td>\n",
       "    </tr>\n",
       "    <tr>\n",
       "      <th>56</th>\n",
       "      <td>16</td>\n",
       "      <td>D</td>\n",
       "    </tr>\n",
       "  </tbody>\n",
       "</table>\n",
       "</div>"
      ],
      "text/plain": [
       "    Student_Score Letter_Grade\n",
       "48             28           A-\n",
       "49             24            B\n",
       "50             23           B-\n",
       "51             23           B-\n",
       "52             16            D\n",
       "53             20            C\n",
       "54             21           C+\n",
       "55             25            B\n",
       "56             16            D"
      ]
     },
     "execution_count": 79,
     "metadata": {},
     "output_type": "execute_result"
    }
   ],
   "source": [
    "# Sample Run, so you can see expected output\n",
    "examscores()"
   ]
  },
  {
   "cell_type": "markdown",
   "metadata": {},
   "source": [
    "## Reminder of Evaluation Criteria\n",
    "\n",
    "1. What the problem attempted (analysis, code, and answered questions) ?\n",
    "2. What the problem analysis thought out? (does the program match the plan?)\n",
    "3. Does the code execute without syntax error?\n",
    "4. Does the code solve the intended problem?\n",
    "5. Is the code well written? (easy to understand, modular, and self-documenting, handles errors)"
   ]
  },
  {
   "cell_type": "code",
   "execution_count": null,
   "metadata": {},
   "outputs": [],
   "source": []
  }
 ],
 "metadata": {
  "anaconda-cloud": {},
  "kernelspec": {
   "display_name": "Python 3",
   "language": "python",
   "name": "python3"
  },
  "language_info": {
   "codemirror_mode": {
    "name": "ipython",
    "version": 3
   },
   "file_extension": ".py",
   "mimetype": "text/x-python",
   "name": "python",
   "nbconvert_exporter": "python",
   "pygments_lexer": "ipython3",
   "version": "3.6.6"
  }
 },
 "nbformat": 4,
 "nbformat_minor": 1
}
